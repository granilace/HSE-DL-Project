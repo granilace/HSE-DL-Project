{
 "cells": [
  {
   "cell_type": "code",
   "execution_count": 1,
   "metadata": {},
   "outputs": [],
   "source": [
    "import matplotlib.pyplot as plt\n",
    "import numpy as np\n",
    "import os\n",
    "import pandas as pd\n",
    "import torch\n",
    "from torchvision import models\n",
    "\n",
    "from datasets import ImagenetDataset\n",
    "from fooling_model import VGG16FoolingModel, VGG19FoolingModel, ResNet50FoolingModel\n",
    "from utils import construct_perturbation, calculate_fooling_rate, process_image"
   ]
  },
  {
   "cell_type": "code",
   "execution_count": 2,
   "metadata": {},
   "outputs": [],
   "source": [
    "np.random.seed(2)\n",
    "torch.manual_seed(2)\n",
    "torch.backends.cudnn.deterministic = True"
   ]
  },
  {
   "cell_type": "code",
   "execution_count": 3,
   "metadata": {},
   "outputs": [],
   "source": [
    "BATCH_SIZE = 64\n",
    "MAX_PERTURB_NORM = 10\n",
    "p = np.inf\n",
    "q = 10\n",
    "\n",
    "device = torch.device('cuda' if torch.cuda.is_available() else 'cpu')\n",
    "\n",
    "imgs_dir = 'imgs'\n",
    "imgs_paths = [os.path.join(imgs_dir, img_name) for img_name in os.listdir(imgs_dir)]\n",
    "train_paths = np.random.choice(imgs_paths, size=BATCH_SIZE, replace=False)\n",
    "val_paths = list(set(imgs_paths) - set(train_paths))\n",
    "train_dataset = ImagenetDataset(train_paths, device)\n",
    "val_dataset = ImagenetDataset(val_paths, device)"
   ]
  },
  {
   "cell_type": "code",
   "execution_count": 7,
   "metadata": {},
   "outputs": [],
   "source": [
    "fooling_models = {\n",
    "    'vgg16': VGG16FoolingModel(models.vgg16(pretrained=True)).to(device),\n",
    "    'vgg19': VGG19FoolingModel(models.vgg19(pretrained=True)).to(device),\n",
    "    'resnet50': ResNet50FoolingModel(models.resnet50(pretrained=True)).to(device)\n",
    "}\n",
    "for model in fooling_models.values():\n",
    "    model.eval()\n",
    "\n",
    "fooling_layers = {\n",
    "    'vgg16': fooling_models['vgg16'].LAYERS_IDS['block2_pool'],\n",
    "    'vgg19': fooling_models['vgg19'].LAYERS_IDS['block2_pool'],\n",
    "    'resnet50': fooling_models['resnet50'].LAYERS_IDS['conv1'],\n",
    "}"
   ]
  },
  {
   "cell_type": "code",
   "execution_count": 8,
   "metadata": {},
   "outputs": [],
   "source": [
    "perturbations = {}\n",
    "train_batch = train_dataset[:]\n",
    "\n",
    "for model_name, model in fooling_models.items():\n",
    "    perturbations[model_name] = construct_perturbation(\n",
    "        model=model,\n",
    "        layer_id=fooling_layers[model_name],\n",
    "        train_batch=train_batch,\n",
    "        perturb_norm=MAX_PERTURB_NORM,\n",
    "        p=p,\n",
    "        q=q\n",
    "    )"
   ]
  },
  {
   "cell_type": "code",
   "execution_count": null,
   "metadata": {},
   "outputs": [],
   "source": [
    "fooling_rates = {}\n",
    "for model_name, model in fooling_models.items():\n",
    "    fooling_rates[model_name] = {\n",
    "        perturb_model_name: calculate_fooling_rate(model, perturbations[perturb_model_name], val_dataset)\n",
    "        for perturb_model_name in perturbations.keys()\n",
    "    }"
   ]
  },
  {
   "cell_type": "code",
   "execution_count": 16,
   "metadata": {},
   "outputs": [
    {
     "data": {
      "text/html": [
       "<div>\n",
       "<style scoped>\n",
       "    .dataframe tbody tr th:only-of-type {\n",
       "        vertical-align: middle;\n",
       "    }\n",
       "\n",
       "    .dataframe tbody tr th {\n",
       "        vertical-align: top;\n",
       "    }\n",
       "\n",
       "    .dataframe thead th {\n",
       "        text-align: right;\n",
       "    }\n",
       "</style>\n",
       "<table border=\"1\" class=\"dataframe\">\n",
       "  <thead>\n",
       "    <tr style=\"text-align: right;\">\n",
       "      <th></th>\n",
       "      <th>resnet50</th>\n",
       "      <th>vgg16</th>\n",
       "      <th>vgg19</th>\n",
       "    </tr>\n",
       "  </thead>\n",
       "  <tbody>\n",
       "    <tr>\n",
       "      <th>resnet50</th>\n",
       "      <td>0.503425</td>\n",
       "      <td>0.629527</td>\n",
       "      <td>0.567388</td>\n",
       "    </tr>\n",
       "    <tr>\n",
       "      <th>vgg16</th>\n",
       "      <td>0.371454</td>\n",
       "      <td>0.577945</td>\n",
       "      <td>0.564283</td>\n",
       "    </tr>\n",
       "    <tr>\n",
       "      <th>vgg19</th>\n",
       "      <td>0.368710</td>\n",
       "      <td>0.584776</td>\n",
       "      <td>0.563942</td>\n",
       "    </tr>\n",
       "  </tbody>\n",
       "</table>\n",
       "</div>"
      ],
      "text/plain": [
       "          resnet50     vgg16     vgg19\n",
       "resnet50  0.503425  0.629527  0.567388\n",
       "vgg16     0.371454  0.577945  0.564283\n",
       "vgg19     0.368710  0.584776  0.563942"
      ]
     },
     "execution_count": 16,
     "metadata": {},
     "output_type": "execute_result"
    }
   ],
   "source": [
    "df = pd.DataFrame(fooling_rates)\n",
    "df.head()"
   ]
  },
  {
   "cell_type": "code",
   "execution_count": null,
   "metadata": {},
   "outputs": [],
   "source": []
  }
 ],
 "metadata": {
  "kernelspec": {
   "display_name": "Python 3",
   "language": "python",
   "name": "python3"
  },
  "language_info": {
   "codemirror_mode": {
    "name": "ipython",
    "version": 3
   },
   "file_extension": ".py",
   "mimetype": "text/x-python",
   "name": "python",
   "nbconvert_exporter": "python",
   "pygments_lexer": "ipython3",
   "version": "3.5.2"
  }
 },
 "nbformat": 4,
 "nbformat_minor": 2
}
